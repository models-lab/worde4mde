{
 "cells": [
  {
   "cell_type": "markdown",
   "id": "d3c4608d-1f51-466f-847d-e6b42f169f5d",
   "metadata": {},
   "source": [
    "## Installation"
   ]
  },
  {
   "cell_type": "markdown",
   "id": "da588eb0-dd80-4ef2-a3be-939e54a672c1",
   "metadata": {},
   "source": [
    "To install the latest version from pip, run the following"
   ]
  },
  {
   "cell_type": "code",
   "execution_count": null,
   "id": "bfe55a9d-f5a0-4583-a8d6-081c07d90caa",
   "metadata": {},
   "outputs": [],
   "source": [
    "!pip install worde4mde"
   ]
  },
  {
   "cell_type": "code",
   "execution_count": null,
   "id": "544a3ef8-256c-4129-81e0-9b2790c578fe",
   "metadata": {},
   "outputs": [],
   "source": [
    "Alternatively, to use the source code version, run:"
   ]
  },
  {
   "cell_type": "code",
   "execution_count": null,
   "id": "029f8561-0ad5-4c5c-b89e-a5a79240bc74",
   "metadata": {},
   "outputs": [],
   "source": [
    "import sys\n",
    "sys.path.append(\"../src\")"
   ]
  },
  {
   "cell_type": "markdown",
   "id": "add86141-d212-4a60-b28f-e33e5000042b",
   "metadata": {},
   "source": [
    "## Use"
   ]
  },
  {
   "cell_type": "markdown",
   "id": "746413b4-dfbc-4ae5-9972-12763d111559",
   "metadata": {},
   "source": [
    "The library simplify the loading of the different models trained as part of WordE4MDE. In particular, the following models are available:\n",
    "* **sgram-mde**: A word2vec model trained with modeling texts. It is the smaller model but performs similarly to the others.\n",
    "* **sgram-mde-so**. A similar model but trained also with posts from StackOverlfow.\n",
    "* **glove-mde**: A GloVe model trained with modeling texts. Also a small model.\n",
    "* **fasttext-mde**: A [FastText](https://fasttext.cc/) model which solves the out-of-vocabulary problem by including subword information. This model is much larger than the others (~2GB).\n",
    "* **fasttext-mde-so**: A similar model but trained also with posts from StackOverflow."
   ]
  },
  {
   "cell_type": "markdown",
   "id": "b1f3c744-541c-4d9b-90dd-ced0b4cba8e2",
   "metadata": {},
   "source": [
    "Loading a model is very simple using the `load_embeddings` function, which takes care of downloading the model and storing it in a the `.worde4mde` folder in the user home."
   ]
  },
  {
   "cell_type": "code",
   "execution_count": null,
   "id": "12b109ca-59cc-41a8-96f9-6c410ff0dbd4",
   "metadata": {},
   "outputs": [],
   "source": [
    "import worde4mde"
   ]
  },
  {
   "cell_type": "code",
   "execution_count": null,
   "id": "ad7bbfb2-b309-47a1-8f78-69992c4e4cbd",
   "metadata": {},
   "outputs": [],
   "source": [
    "model_id = 'sgram-mde'\n",
    "# model_id = 'glove-mde'\n",
    "# model_id = 'fasttext-mde'\n",
    "# model_id = 'fasttext-mde-so'\n",
    "model_id = 'sgram-mde-so'\n",
    "\n",
    "model = worde4mde.load_embeddings(embedding_model=model_id)"
   ]
  },
  {
   "cell_type": "markdown",
   "id": "d0c07485-4750-48b7-9b10-cd01eaf8cd60",
   "metadata": {},
   "source": [
    "## Example\n",
    "\n",
    "As a simple example of using the model, let's build a function to compute the words that are most similar to a given one."
   ]
  },
  {
   "cell_type": "code",
   "execution_count": null,
   "id": "12980134-cfcc-43c9-8d16-eeec6bd71701",
   "metadata": {},
   "outputs": [],
   "source": [
    "def similar_words_to(model, term, topn = 10):\n",
    "    \"Returns the top n most similar words using gensim facilities\"\n",
    "    \n",
    "    words = []\n",
    "    similar = model.most_similar(positive=[term], topn = topn)\n",
    "    for word, score in similar:\n",
    "       words.append(word)\n",
    "    return words"
   ]
  },
  {
   "cell_type": "code",
   "execution_count": null,
   "id": "f515e72e-cd6f-4eef-8507-b779e366d614",
   "metadata": {},
   "outputs": [],
   "source": [
    "similar_words_to(model, 'transformation', topn = 20)\n",
    "\n",
    "# If the model is FastText, then it has to be model.wv to pass a gensim model"
   ]
  }
 ],
 "metadata": {
  "kernelspec": {
   "display_name": "Python 3 (ipykernel)",
   "language": "python",
   "name": "python3"
  },
  "language_info": {
   "codemirror_mode": {
    "name": "ipython",
    "version": 3
   },
   "file_extension": ".py",
   "mimetype": "text/x-python",
   "name": "python",
   "nbconvert_exporter": "python",
   "pygments_lexer": "ipython3",
   "version": "3.8.15"
  }
 },
 "nbformat": 4,
 "nbformat_minor": 5
}
